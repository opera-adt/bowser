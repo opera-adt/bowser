{
 "cells": [
  {
   "cell_type": "markdown",
   "metadata": {},
   "source": [
    "# Bowser Widget Example Usage\n",
    "\n",
    "This notebook demonstrates how to use the Bowser ipywidget for interactive data exploration in Jupyter notebooks."
   ]
  },
  {
   "cell_type": "markdown",
   "metadata": {},
   "source": [
    "## Method 1: Automatic Server Management\n",
    "\n",
    "The simplest approach - the widget will automatically start a Bowser server if one isn't already running:"
   ]
  },
  {
   "cell_type": "code",
   "execution_count": 1,
   "metadata": {},
   "outputs": [
    {
     "name": "stdout",
     "output_type": "stream",
     "text": [
      "The autoreload extension is already loaded. To reload it, use:\n",
      "  %reload_ext autoreload\n"
     ]
    }
   ],
   "source": [
    "import os\n",
    "%load_ext autoreload\n",
    "%autoreload 2\n",
    "os.chdir(\"/Users/staniewi/repos/opera-utils/data\")"
   ]
  },
  {
   "cell_type": "code",
   "execution_count": 2,
   "metadata": {},
   "outputs": [
    {
     "name": "stderr",
     "output_type": "stream",
     "text": [
      "INFO:bowser._widget:Starting Bowser server...\n",
      "INFO:bowser._server:Starting Bowser server on http://127.0.0.1:8000\n",
      "INFO:bowser:Loading RasterGroups from bowser_rasters_reso.json (COG)\n",
      "INFO:bowser:Found 22 RasterGroup configs: {list(raster_groups.keys())}\n",
      "INFO:bowser:Configured COG endpoints at /cog/*\n",
      "INFO:bowser:Configured MD endpoints at /md/*\n",
      "INFO:bowser:Bowser started in COG mode\n"
     ]
    },
    {
     "name": "stdout",
     "output_type": "stream",
     "text": [
      "Data loading complete in 2.2 sec. Mode: cog\n",
      "Setup complete: time to load datasets: 2.4 sec.\n"
     ]
    },
    {
     "name": "stderr",
     "output_type": "stream",
     "text": [
      "INFO:bowser._widget:Updated reference values for 150m: Displacement\n"
     ]
    },
    {
     "data": {
      "application/vnd.jupyter.widget-view+json": {
       "model_id": "7975a34434c04a0a9f6dd0270713eaf8",
       "version_major": 2,
       "version_minor": 0
      },
      "text/plain": [
       "VBox(children=(HTML(value='<h2>20160705_20160729</h2>'), GridBox(children=(VBox(children=(Dropdown(description…"
      ]
     },
     "execution_count": 2,
     "metadata": {},
     "output_type": "execute_result"
    },
    {
     "name": "stderr",
     "output_type": "stream",
     "text": [
      "INFO:bowser._widget:Updated reference values for 150m: Displacement\n"
     ]
    }
   ],
   "source": [
    "import bowser._widget\n",
    "\n",
    "# This will automatically start a server if needed\n",
    "# and create a widget for the first available dataset\n",
    "widget = bowser._widget.make_bowser_widget(\n",
    "    # stack_file=\"data/new-orleans-F44055-2048.zarr\",  # or your zarr/netcdf file\n",
    "    rasters_file=\"bowser_rasters_reso.json\",  # or your JSON config file for COG mode\n",
    ")\n",
    "\n",
    "widget"
   ]
  },
  {
   "cell_type": "code",
   "execution_count": 4,
   "metadata": {},
   "outputs": [
    {
     "name": "stderr",
     "output_type": "stream",
     "text": [
      "INFO:bowser._server:Starting Bowser server on http://127.0.0.1:8001\n"
     ]
    },
    {
     "name": "stdout",
     "output_type": "stream",
     "text": [
      "Server running at: http://127.0.0.1:8001\n"
     ]
    }
   ],
   "source": [
    "from bowser._server import BowserServer\n",
    "from bowser._widget import make_bowser_widget\n",
    "\n",
    "# Start the server manually\n",
    "server = BowserServer(\n",
    "    stack_file=\"data/west-texas-tubbs-uplift.zarr\",\n",
    "    port=8001,  # Use a specific port\n",
    "    ignore_sidecar_files=True,\n",
    ")\n",
    "server.start()\n",
    "\n",
    "print(f\"Server running at: {server.url}\")"
   ]
  },
  {
   "cell_type": "code",
   "execution_count": 5,
   "metadata": {},
   "outputs": [
    {
     "ename": "ValueError",
     "evalue": "Dataset 'displacement' not found.",
     "output_type": "error",
     "traceback": [
      "\u001b[31m---------------------------------------------------------------------------\u001b[39m",
      "\u001b[31mValueError\u001b[39m                                Traceback (most recent call last)",
      "\u001b[36mCell\u001b[39m\u001b[36m \u001b[39m\u001b[32mIn[5]\u001b[39m\u001b[32m, line 2\u001b[39m\n\u001b[32m      1\u001b[39m \u001b[38;5;66;03m# Create widget pointing to the running server\u001b[39;00m\n\u001b[32m----> \u001b[39m\u001b[32m2\u001b[39m widget = \u001b[43mmake_bowser_widget\u001b[49m\u001b[43m(\u001b[49m\n\u001b[32m      3\u001b[39m \u001b[43m    \u001b[49m\u001b[43mdataset_name\u001b[49m\u001b[43m=\u001b[49m\u001b[33;43m\"\u001b[39;49m\u001b[33;43mdisplacement\u001b[39;49m\u001b[33;43m\"\u001b[39;49m\u001b[43m,\u001b[49m\u001b[43m  \u001b[49m\u001b[38;5;66;43;03m# Specify which dataset to view\u001b[39;49;00m\n\u001b[32m      4\u001b[39m \u001b[43m    \u001b[49m\u001b[43mbowser_url\u001b[49m\u001b[43m=\u001b[49m\u001b[43mserver\u001b[49m\u001b[43m.\u001b[49m\u001b[43murl\u001b[49m\n\u001b[32m      5\u001b[39m \u001b[43m)\u001b[49m\n\u001b[32m      7\u001b[39m widget\n",
      "\u001b[36mFile \u001b[39m\u001b[32m~/repos/bowser/src/bowser/_widget.py:329\u001b[39m, in \u001b[36mmake_bowser_widget\u001b[39m\u001b[34m(dataset_name, bowser_url, **server_kwargs)\u001b[39m\n\u001b[32m    327\u001b[39m \u001b[38;5;28;01mif\u001b[39;00m server:\n\u001b[32m    328\u001b[39m     server.stop()\n\u001b[32m--> \u001b[39m\u001b[32m329\u001b[39m \u001b[38;5;28;01mraise\u001b[39;00m e\n",
      "\u001b[36mFile \u001b[39m\u001b[32m~/repos/bowser/src/bowser/_widget.py:62\u001b[39m, in \u001b[36mmake_bowser_widget\u001b[39m\u001b[34m(dataset_name, bowser_url, **server_kwargs)\u001b[39m\n\u001b[32m     60\u001b[39m     dataset_name = \u001b[38;5;28mlist\u001b[39m(datasets.keys())[\u001b[32m0\u001b[39m]\n\u001b[32m     61\u001b[39m \u001b[38;5;28;01mif\u001b[39;00m dataset_name \u001b[38;5;129;01mnot\u001b[39;00m \u001b[38;5;129;01min\u001b[39;00m datasets:\n\u001b[32m---> \u001b[39m\u001b[32m62\u001b[39m     \u001b[38;5;28;01mraise\u001b[39;00m \u001b[38;5;167;01mValueError\u001b[39;00m(\u001b[33mf\u001b[39m\u001b[33m\"\u001b[39m\u001b[33mDataset \u001b[39m\u001b[33m'\u001b[39m\u001b[38;5;132;01m{\u001b[39;00mdataset_name\u001b[38;5;132;01m}\u001b[39;00m\u001b[33m'\u001b[39m\u001b[33m not found.\u001b[39m\u001b[33m\"\u001b[39m)\n\u001b[32m     64\u001b[39m \u001b[38;5;66;03m# --- controls (unchanged) ---\u001b[39;00m\n\u001b[32m     65\u001b[39m dataset_dd = widgets.Dropdown(\n\u001b[32m     66\u001b[39m     options=\u001b[38;5;28mlist\u001b[39m(datasets.keys()), value=dataset_name, description=\u001b[33m\"\u001b[39m\u001b[33mLayer:\u001b[39m\u001b[33m\"\u001b[39m\n\u001b[32m     67\u001b[39m )\n",
      "\u001b[31mValueError\u001b[39m: Dataset 'displacement' not found."
     ]
    }
   ],
   "source": [
    "# Create widget pointing to the running server\n",
    "widget = make_bowser_widget(\n",
    "    dataset_name=\"displacement\",  # Specify which dataset to view\n",
    "    bowser_url=server.url\n",
    ")\n",
    "\n",
    "widget"
   ]
  },
  {
   "cell_type": "code",
   "execution_count": null,
   "metadata": {},
   "outputs": [],
   "source": [
    "# Stop the server when done\n",
    "server.stop()"
   ]
  },
  {
   "cell_type": "code",
   "execution_count": null,
   "metadata": {},
   "outputs": [],
   "source": [
    "# First, create a JSON configuration file for your rasters\n",
    "import json\n",
    "\n",
    "# Example configuration for COG files\n",
    "raster_config = [\n",
    "    {\n",
    "        \"name\": \"displacement\",\n",
    "        \"file_list\": [\n",
    "            \"data/geotiffs/displacement_20160708_20160801.tif\",\n",
    "            \"data/geotiffs/displacement_20160708_20160825.tif\",\n",
    "            \"data/geotiffs/displacement_20160708_20160918.tif\"\n",
    "        ],\n",
    "        \"mask_file_list\": [\n",
    "            \"data/geotiffs/recommended_mask_20160708_20160801.tif\",\n",
    "            \"data/geotiffs/recommended_mask_20160708_20160825.tif\",\n",
    "            \"data/geotiffs/recommended_mask_20160708_20160918.tif\"\n",
    "        ],\n",
    "        \"mask_min_value\": 0.1,\n",
    "        \"uses_spatial_ref\": True,\n",
    "        \"algorithm\": \"shift\"\n",
    "    }\n",
    "]\n",
    "\n",
    "# Save configuration\n",
    "with open(\"bowser_rasters.json\", \"w\") as f:\n",
    "    json.dump(raster_config, f, indent=2)"
   ]
  },
  {
   "cell_type": "code",
   "execution_count": null,
   "metadata": {},
   "outputs": [],
   "source": [
    "# Use COG mode\n",
    "with running(\n",
    "    rasters_file=\"bowser_rasters.json\",\n",
    "    ignore_sidecar_files=True\n",
    ") as server:\n",
    "    widget = make_bowser_widget(\n",
    "        dataset_name=\"displacement\",\n",
    "        bowser_url=server.url\n",
    "    )\n",
    "    display(widget)"
   ]
  },
  {
   "cell_type": "markdown",
   "metadata": {},
   "source": [
    "## Additional Features\n",
    "\n",
    "The widget provides:\n",
    "\n",
    "- **Interactive map**: Pan, zoom, and explore your geospatial data\n",
    "- **Time series navigation**: Use the slider to move through time steps\n",
    "- **Automatic server management**: No need to manually configure Titiler\n",
    "- **Support for both data modes**: Works with both zarr/netcdf (MD mode) and COG files\n",
    "- **Customizable**: Control zoom levels, loading indicators, and more\n",
    "\n",
    "### Widget Parameters\n",
    "\n",
    "- `dataset_name`: Which dataset to display (if None, uses first available)\n",
    "- `bowser_url`: URL of Bowser server (if server already running)\n",
    "- `show_loading`: Whether to show loading indicators on tiles\n",
    "- `**server_kwargs`: Additional parameters for BowserServer (port, ignore_sidecar_files, etc.)"
   ]
  }
 ],
 "metadata": {
  "kernelspec": {
   "display_name": "Python 3 (ipykernel)",
   "language": "python",
   "name": "python3"
  },
  "language_info": {
   "codemirror_mode": {
    "name": "ipython",
    "version": 3
   },
   "file_extension": ".py",
   "mimetype": "text/x-python",
   "name": "python",
   "nbconvert_exporter": "python",
   "pygments_lexer": "ipython3",
   "version": "3.12.11"
  }
 },
 "nbformat": 4,
 "nbformat_minor": 4
}
